{
  "nbformat": 4,
  "nbformat_minor": 0,
  "metadata": {
    "kernelspec": {
      "display_name": "Python 3",
      "language": "python",
      "name": "python3"
    },
    "language_info": {
      "codemirror_mode": {
        "name": "ipython",
        "version": 3
      },
      "file_extension": ".py",
      "mimetype": "text/x-python",
      "name": "python",
      "nbconvert_exporter": "python",
      "pygments_lexer": "ipython3",
      "version": "3.6.9"
    },
    "colab": {
      "name": "Mura.ipynb",
      "provenance": [],
      "collapsed_sections": []
    },
    "accelerator": "GPU"
  },
  "cells": [
    {
      "cell_type": "markdown",
      "source": [
        "# Training notebook\n",
        "\n",
        "* This notebook is used for building, training and evaluating CNN models on MURA dataset.  \n",
        "* For the purpose of experimentation, the CNN model, dataset type (original / preprocessed offline), online augmentation and preprocessing can be easily changed with the use of custom loading functions\n",
        "* More information on used functions can be found mainly in python files ***utils.py*** and ***image_preprocessing.py***\n",
        "* Some cells are specific for Google Colab environment and might not work correctly in other environments"
      ],
      "metadata": {
        "id": "HMkTY-iaHz5m"
      }
    },
    {
      "cell_type": "code",
      "metadata": {
        "id": "_N-ZCc3nab-o",
        "colab": {
          "base_uri": "https://localhost:8080/"
        },
        "outputId": "fe022fba-3196-4ee9-f154-8c28d1ee8e02"
      },
      "source": [
        "%tensorflow_version 2.x\n",
        "import tensorflow as tf\n",
        "import pandas as pd\n",
        "import pickle\n",
        "import numpy as np\n",
        "import cv2\n",
        "from tensorflow import keras\n",
        "from tensorflow.keras import layers\n",
        "from tensorflow.keras.callbacks import ModelCheckpoint, EarlyStopping\n",
        "from tensorflow.keras.optimizers import Adam\n",
        "\n",
        "import matplotlib.pyplot as plt\n",
        "%matplotlib inline\n",
        "\n",
        "# Google Colab does not have tensorflow_addons installed by default\n",
        "!pip install tensorflow-addons\n",
        "from tensorflow_addons.metrics import CohenKappa"
      ],
      "execution_count": 1,
      "outputs": [
        {
          "output_type": "stream",
          "name": "stdout",
          "text": [
            "Collecting tensorflow-addons\n",
            "  Downloading tensorflow_addons-0.16.1-cp37-cp37m-manylinux_2_12_x86_64.manylinux2010_x86_64.whl (1.1 MB)\n",
            "\u001b[?25l\r\u001b[K     |▎                               | 10 kB 28.1 MB/s eta 0:00:01\r\u001b[K     |▋                               | 20 kB 19.8 MB/s eta 0:00:01\r\u001b[K     |▉                               | 30 kB 10.6 MB/s eta 0:00:01\r\u001b[K     |█▏                              | 40 kB 7.8 MB/s eta 0:00:01\r\u001b[K     |█▌                              | 51 kB 6.5 MB/s eta 0:00:01\r\u001b[K     |█▊                              | 61 kB 7.7 MB/s eta 0:00:01\r\u001b[K     |██                              | 71 kB 8.4 MB/s eta 0:00:01\r\u001b[K     |██▍                             | 81 kB 7.0 MB/s eta 0:00:01\r\u001b[K     |██▋                             | 92 kB 7.8 MB/s eta 0:00:01\r\u001b[K     |███                             | 102 kB 8.6 MB/s eta 0:00:01\r\u001b[K     |███▏                            | 112 kB 8.6 MB/s eta 0:00:01\r\u001b[K     |███▌                            | 122 kB 8.6 MB/s eta 0:00:01\r\u001b[K     |███▉                            | 133 kB 8.6 MB/s eta 0:00:01\r\u001b[K     |████                            | 143 kB 8.6 MB/s eta 0:00:01\r\u001b[K     |████▍                           | 153 kB 8.6 MB/s eta 0:00:01\r\u001b[K     |████▊                           | 163 kB 8.6 MB/s eta 0:00:01\r\u001b[K     |█████                           | 174 kB 8.6 MB/s eta 0:00:01\r\u001b[K     |█████▎                          | 184 kB 8.6 MB/s eta 0:00:01\r\u001b[K     |█████▌                          | 194 kB 8.6 MB/s eta 0:00:01\r\u001b[K     |█████▉                          | 204 kB 8.6 MB/s eta 0:00:01\r\u001b[K     |██████▏                         | 215 kB 8.6 MB/s eta 0:00:01\r\u001b[K     |██████▍                         | 225 kB 8.6 MB/s eta 0:00:01\r\u001b[K     |██████▊                         | 235 kB 8.6 MB/s eta 0:00:01\r\u001b[K     |███████                         | 245 kB 8.6 MB/s eta 0:00:01\r\u001b[K     |███████▎                        | 256 kB 8.6 MB/s eta 0:00:01\r\u001b[K     |███████▋                        | 266 kB 8.6 MB/s eta 0:00:01\r\u001b[K     |███████▉                        | 276 kB 8.6 MB/s eta 0:00:01\r\u001b[K     |████████▏                       | 286 kB 8.6 MB/s eta 0:00:01\r\u001b[K     |████████▌                       | 296 kB 8.6 MB/s eta 0:00:01\r\u001b[K     |████████▊                       | 307 kB 8.6 MB/s eta 0:00:01\r\u001b[K     |█████████                       | 317 kB 8.6 MB/s eta 0:00:01\r\u001b[K     |█████████▍                      | 327 kB 8.6 MB/s eta 0:00:01\r\u001b[K     |█████████▋                      | 337 kB 8.6 MB/s eta 0:00:01\r\u001b[K     |██████████                      | 348 kB 8.6 MB/s eta 0:00:01\r\u001b[K     |██████████▏                     | 358 kB 8.6 MB/s eta 0:00:01\r\u001b[K     |██████████▌                     | 368 kB 8.6 MB/s eta 0:00:01\r\u001b[K     |██████████▉                     | 378 kB 8.6 MB/s eta 0:00:01\r\u001b[K     |███████████                     | 389 kB 8.6 MB/s eta 0:00:01\r\u001b[K     |███████████▍                    | 399 kB 8.6 MB/s eta 0:00:01\r\u001b[K     |███████████▊                    | 409 kB 8.6 MB/s eta 0:00:01\r\u001b[K     |████████████                    | 419 kB 8.6 MB/s eta 0:00:01\r\u001b[K     |████████████▎                   | 430 kB 8.6 MB/s eta 0:00:01\r\u001b[K     |████████████▌                   | 440 kB 8.6 MB/s eta 0:00:01\r\u001b[K     |████████████▉                   | 450 kB 8.6 MB/s eta 0:00:01\r\u001b[K     |█████████████▏                  | 460 kB 8.6 MB/s eta 0:00:01\r\u001b[K     |█████████████▍                  | 471 kB 8.6 MB/s eta 0:00:01\r\u001b[K     |█████████████▊                  | 481 kB 8.6 MB/s eta 0:00:01\r\u001b[K     |██████████████                  | 491 kB 8.6 MB/s eta 0:00:01\r\u001b[K     |██████████████▎                 | 501 kB 8.6 MB/s eta 0:00:01\r\u001b[K     |██████████████▋                 | 512 kB 8.6 MB/s eta 0:00:01\r\u001b[K     |██████████████▉                 | 522 kB 8.6 MB/s eta 0:00:01\r\u001b[K     |███████████████▏                | 532 kB 8.6 MB/s eta 0:00:01\r\u001b[K     |███████████████▌                | 542 kB 8.6 MB/s eta 0:00:01\r\u001b[K     |███████████████▊                | 552 kB 8.6 MB/s eta 0:00:01\r\u001b[K     |████████████████                | 563 kB 8.6 MB/s eta 0:00:01\r\u001b[K     |████████████████▍               | 573 kB 8.6 MB/s eta 0:00:01\r\u001b[K     |████████████████▋               | 583 kB 8.6 MB/s eta 0:00:01\r\u001b[K     |█████████████████               | 593 kB 8.6 MB/s eta 0:00:01\r\u001b[K     |█████████████████▏              | 604 kB 8.6 MB/s eta 0:00:01\r\u001b[K     |█████████████████▌              | 614 kB 8.6 MB/s eta 0:00:01\r\u001b[K     |█████████████████▉              | 624 kB 8.6 MB/s eta 0:00:01\r\u001b[K     |██████████████████              | 634 kB 8.6 MB/s eta 0:00:01\r\u001b[K     |██████████████████▍             | 645 kB 8.6 MB/s eta 0:00:01\r\u001b[K     |██████████████████▊             | 655 kB 8.6 MB/s eta 0:00:01\r\u001b[K     |███████████████████             | 665 kB 8.6 MB/s eta 0:00:01\r\u001b[K     |███████████████████▎            | 675 kB 8.6 MB/s eta 0:00:01\r\u001b[K     |███████████████████▌            | 686 kB 8.6 MB/s eta 0:00:01\r\u001b[K     |███████████████████▉            | 696 kB 8.6 MB/s eta 0:00:01\r\u001b[K     |████████████████████▏           | 706 kB 8.6 MB/s eta 0:00:01\r\u001b[K     |████████████████████▍           | 716 kB 8.6 MB/s eta 0:00:01\r\u001b[K     |████████████████████▊           | 727 kB 8.6 MB/s eta 0:00:01\r\u001b[K     |█████████████████████           | 737 kB 8.6 MB/s eta 0:00:01\r\u001b[K     |█████████████████████▎          | 747 kB 8.6 MB/s eta 0:00:01\r\u001b[K     |█████████████████████▋          | 757 kB 8.6 MB/s eta 0:00:01\r\u001b[K     |█████████████████████▉          | 768 kB 8.6 MB/s eta 0:00:01\r\u001b[K     |██████████████████████▏         | 778 kB 8.6 MB/s eta 0:00:01\r\u001b[K     |██████████████████████▌         | 788 kB 8.6 MB/s eta 0:00:01\r\u001b[K     |██████████████████████▊         | 798 kB 8.6 MB/s eta 0:00:01\r\u001b[K     |███████████████████████         | 808 kB 8.6 MB/s eta 0:00:01\r\u001b[K     |███████████████████████▍        | 819 kB 8.6 MB/s eta 0:00:01\r\u001b[K     |███████████████████████▋        | 829 kB 8.6 MB/s eta 0:00:01\r\u001b[K     |████████████████████████        | 839 kB 8.6 MB/s eta 0:00:01\r\u001b[K     |████████████████████████▏       | 849 kB 8.6 MB/s eta 0:00:01\r\u001b[K     |████████████████████████▌       | 860 kB 8.6 MB/s eta 0:00:01\r\u001b[K     |████████████████████████▉       | 870 kB 8.6 MB/s eta 0:00:01\r\u001b[K     |█████████████████████████       | 880 kB 8.6 MB/s eta 0:00:01\r\u001b[K     |█████████████████████████▍      | 890 kB 8.6 MB/s eta 0:00:01\r\u001b[K     |█████████████████████████▊      | 901 kB 8.6 MB/s eta 0:00:01\r\u001b[K     |██████████████████████████      | 911 kB 8.6 MB/s eta 0:00:01\r\u001b[K     |██████████████████████████▎     | 921 kB 8.6 MB/s eta 0:00:01\r\u001b[K     |██████████████████████████▌     | 931 kB 8.6 MB/s eta 0:00:01\r\u001b[K     |██████████████████████████▉     | 942 kB 8.6 MB/s eta 0:00:01\r\u001b[K     |███████████████████████████▏    | 952 kB 8.6 MB/s eta 0:00:01\r\u001b[K     |███████████████████████████▍    | 962 kB 8.6 MB/s eta 0:00:01\r\u001b[K     |███████████████████████████▊    | 972 kB 8.6 MB/s eta 0:00:01\r\u001b[K     |████████████████████████████    | 983 kB 8.6 MB/s eta 0:00:01\r\u001b[K     |████████████████████████████▎   | 993 kB 8.6 MB/s eta 0:00:01\r\u001b[K     |████████████████████████████▋   | 1.0 MB 8.6 MB/s eta 0:00:01\r\u001b[K     |████████████████████████████▉   | 1.0 MB 8.6 MB/s eta 0:00:01\r\u001b[K     |█████████████████████████████▏  | 1.0 MB 8.6 MB/s eta 0:00:01\r\u001b[K     |█████████████████████████████▌  | 1.0 MB 8.6 MB/s eta 0:00:01\r\u001b[K     |█████████████████████████████▊  | 1.0 MB 8.6 MB/s eta 0:00:01\r\u001b[K     |██████████████████████████████  | 1.1 MB 8.6 MB/s eta 0:00:01\r\u001b[K     |██████████████████████████████▍ | 1.1 MB 8.6 MB/s eta 0:00:01\r\u001b[K     |██████████████████████████████▋ | 1.1 MB 8.6 MB/s eta 0:00:01\r\u001b[K     |███████████████████████████████ | 1.1 MB 8.6 MB/s eta 0:00:01\r\u001b[K     |███████████████████████████████▏| 1.1 MB 8.6 MB/s eta 0:00:01\r\u001b[K     |███████████████████████████████▌| 1.1 MB 8.6 MB/s eta 0:00:01\r\u001b[K     |███████████████████████████████▉| 1.1 MB 8.6 MB/s eta 0:00:01\r\u001b[K     |████████████████████████████████| 1.1 MB 8.6 MB/s \n",
            "\u001b[?25hRequirement already satisfied: typeguard>=2.7 in /usr/local/lib/python3.7/dist-packages (from tensorflow-addons) (2.7.1)\n",
            "Installing collected packages: tensorflow-addons\n",
            "Successfully installed tensorflow-addons-0.16.1\n"
          ]
        }
      ]
    },
    {
      "cell_type": "markdown",
      "source": [
        "# FILEPATHS\n"
      ],
      "metadata": {
        "id": "3A3VbOUEYeUG"
      }
    },
    {
      "cell_type": "code",
      "source": [
        "DRIVE_DIR = '/content/drive/MyDrive/MURA/' # Directory in my personal Google Drive with all source files and datasets\n",
        "MURA_DIR = '/content/original/' # Directory with original MURA dataset\n",
        "CLAHE_2_DIR = '/content/clahe_2/' # Directory for CLAHE preprocessed dataset with clipLimit=2\n",
        "CLAHE_10_DIR = '/content/clahe_10/' # Directory for CLAHE preprocessed dataset with clipLimit=10\n",
        "CROPPED_DIR = '/content/cropped/' # Directory for custom cropping preprocessed dataset\n",
        "DATAFRAME_PATH = DRIVE_DIR + '/tvt_detailed_paths.csv' # Path to csv file with dataset information (train-valid-test split)\n",
        "CHECKPOINT_DIR = '/content/drive/MyDrive/MURA/models/' # Root directory for storing models"
      ],
      "metadata": {
        "id": "chR2OBqAYd4V"
      },
      "execution_count": 2,
      "outputs": []
    },
    {
      "cell_type": "markdown",
      "source": [
        "# Google Colab specific section"
      ],
      "metadata": {
        "id": "djVz8HVw7oEY"
      }
    },
    {
      "cell_type": "markdown",
      "metadata": {
        "id": "82nFEA2TjZ3q"
      },
      "source": [
        "## Mount Google Drive"
      ]
    },
    {
      "cell_type": "code",
      "metadata": {
        "colab": {
          "base_uri": "https://localhost:8080/"
        },
        "id": "afiSbqU-ajuW",
        "outputId": "6ef09376-1afe-435e-b084-e7a85ddf6a68"
      },
      "source": [
        "from google.colab import drive\n",
        "drive.mount('/content/drive')"
      ],
      "execution_count": 3,
      "outputs": [
        {
          "output_type": "stream",
          "name": "stdout",
          "text": [
            "Mounted at /content/drive\n"
          ]
        }
      ]
    },
    {
      "cell_type": "markdown",
      "source": [
        "## Google colab functions\n",
        "\n",
        "Next cell containts function definitions, that are needed or useful when running notebook in Google Colab, such as copying dataset from Google Drive, checking GPU utilization, copying other files from Google Drive."
      ],
      "metadata": {
        "id": "eMOttX7zz_tP"
      }
    },
    {
      "cell_type": "code",
      "source": [
        "# This function is from Google Colab guide notebooks: https://colab.research.google.com/notebooks/pro.ipynb\n",
        "def check_gpu():\n",
        "  \"\"\"\n",
        "  Prints information about available GPU or message saying there isn't one\n",
        "  \"\"\"\n",
        "  gpu_info = !nvidia-smi\n",
        "  gpu_info = '\\n'.join(gpu_info)\n",
        "  if gpu_info.find('failed') >= 0:\n",
        "    print('Not connected to a GPU')\n",
        "  else:\n",
        "    print(gpu_info)\n",
        "\n",
        "\n",
        "def init_file_struct():\n",
        "  \"\"\"\n",
        "  Prep file structure in Google Colab and copies neccessary files from Google Drive\n",
        "  \"\"\"\n",
        "  !cp \"{DRIVE_DIR}src/utils.py\" .\n",
        "  !cp \"{DRIVE_DIR}src/image_preprocessing.py\" .\n",
        "\n",
        "\n",
        "def copy_dataset(filename):\n",
        "  \"\"\"\n",
        "  Copies and unzips dataset from Google Drive and deletes the zipped file\n",
        "\n",
        "  Parameters\n",
        "  ----------\n",
        "  filename : str\n",
        "    Dataset filename, without its path, the path will be added from constants\n",
        "  \"\"\"\n",
        "  !cp {DRIVE_DIR}{filename} /content/\n",
        "\n",
        "  !unzip -q /content/{filename}\n",
        "\n",
        "  !rm /content/{filename}"
      ],
      "metadata": {
        "id": "JdCdOOo5z5kU"
      },
      "execution_count": 4,
      "outputs": []
    },
    {
      "cell_type": "markdown",
      "source": [
        "## Import python files after copying them from Google Colab"
      ],
      "metadata": {
        "id": "3iQ5LRSN5bKU"
      }
    },
    {
      "cell_type": "code",
      "source": [
        "init_file_struct()\n",
        "from utils import *\n",
        "from image_preprocessing import *"
      ],
      "metadata": {
        "id": "lA5yYz1FsD4f"
      },
      "execution_count": 5,
      "outputs": []
    },
    {
      "cell_type": "markdown",
      "source": [
        "## Copy desired dataset to be used"
      ],
      "metadata": {
        "id": "foQIO96o5k_g"
      }
    },
    {
      "cell_type": "code",
      "source": [
        "copy_dataset('original.zip')\n",
        "copy_dataset('clahe_2.zip')\n",
        "# copy_dataset('clahe_10.zip')\n",
        "# copy_dataset('cropped.zip')"
      ],
      "metadata": {
        "id": "T02MSGga5kNU"
      },
      "execution_count": 6,
      "outputs": []
    },
    {
      "cell_type": "markdown",
      "source": [
        "# SETUP"
      ],
      "metadata": {
        "id": "OX41Ziahh2F6"
      }
    },
    {
      "cell_type": "code",
      "source": [
        "# Functions used to preprocess images according to ImageNet \n",
        "from tensorflow.keras.applications.resnet50 import preprocess_input as resnet50_preprocess\n",
        "from tensorflow.keras.applications.densenet import preprocess_input as densenet_preprocess"
      ],
      "metadata": {
        "id": "pQMhRoXwelSv"
      },
      "execution_count": null,
      "outputs": []
    },
    {
      "cell_type": "code",
      "source": [
        "# DATAFRAME\n",
        "BODY_PART = 'SHOULDER' # Which body part to use, can be \"ALL\" for full dataset\n",
        "# IMAGE AUGMENTATION\n",
        "ROTATION_R = 20 # Rotation range\n",
        "W_SHIFT_R = 0.05 # Width shift range\n",
        "H_SHIFT_R = 0.05 # Height shift range\n",
        "BRIGHTNESS_R = (0.9, 1.1) # Brightness range\n",
        "ZOOM_R = 0.1 # Zoom range\n",
        "H_FLIP = True # Flip the image horizontally\n",
        "PRE_FUNC = rescale # Preprocessing function to be applied to every image before feeding it to the model\n",
        "# DATAFRAME FLOW\n",
        "FLOW_DIR = MURA_DIR # Directory containing dataset images, choose one from filepath constants or use your own\n",
        "BATCH_SIZE = 32 # Number of images per batch\n",
        "IMAGE_SIZE = (224, 224) # Resize all images to this size\n",
        "# MODEL\n",
        "BASE_NAME = 'DenseNet169' # Name corresponding to one of the architectures from Keras functional API\n",
        "WEIGHTS = 'imagenet' # ImageNet pre-trained weights or a path to stored model weights\n",
        "INPUT_SHAPE = (224, 224, 3) # Model input shape\n",
        "POOLING = 'avg' # Pooling layer used after the last convolutional layer, can be None\n",
        "OPTIMIZER = Adam(learning_rate=0.0001) # Optimzer used during training\n",
        "MODEL_NAME = BASE_NAME + '_tmp' # Name used for storing model weights during and after training\n",
        "# TRAINING\n",
        "EPOCHS = 10 # Number of epochs for trainig"
      ],
      "metadata": {
        "id": "PgUXgWiYh9Gl"
      },
      "execution_count": 7,
      "outputs": []
    },
    {
      "cell_type": "markdown",
      "source": [
        "# Additional preprocessing functions"
      ],
      "metadata": {
        "id": "6T6rD8_1emBB"
      }
    },
    {
      "cell_type": "markdown",
      "metadata": {
        "id": "7vG7IOJ6ab-x"
      },
      "source": [
        "# Create datagens and flows"
      ]
    },
    {
      "cell_type": "code",
      "metadata": {
        "id": "ggqBTn15ab-v",
        "colab": {
          "base_uri": "https://localhost:8080/"
        },
        "outputId": "b0297700-10c6-4e4c-9121-3ba1029a4766"
      },
      "source": [
        "# Create dataframes from train valid split\n",
        "train_df = get_dataframe(body_part=BODY_PART, split='train', path=DATAFRAME_PATH)\n",
        "valid_df = get_dataframe(body_part=BODY_PART, split='valid', path=DATAFRAME_PATH)\n",
        "\n",
        "# Create ImageDataGenerators, train_gen uses specified online augmentation, valid_gen only preprocesses images\n",
        "train_gen, valid_gen = create_generators(rotation_r=ROTATION_R,\n",
        "                                         w_shift_r=W_SHIFT_R,\n",
        "                                         h_shift_r=H_SHIFT_R,\n",
        "                                         brightness_r=BRIGHTNESS_R,\n",
        "                                         zoom_r=ZOOM_R,\n",
        "                                         h_flip=H_FLIP,\n",
        "                                         pre_func=PRE_FUNC)\n",
        "# Create dataframe flows, filepaths in dataframes are not absolute, so set directory parameter correctly\n",
        "train_flow, valid_flow = create_dataframe_flows(train_gen=train_gen,\n",
        "                                                valid_gen=valid_gen,\n",
        "                                                train_df=train_df,\n",
        "                                                valid_df=valid_df,\n",
        "                                                directory=FLOW_DIR,\n",
        "                                                img_size=IMAGE_SIZE,\n",
        "                                                batch_size=BATCH_SIZE)"
      ],
      "execution_count": 8,
      "outputs": [
        {
          "output_type": "stream",
          "name": "stdout",
          "text": [
            "Found 8257 validated image filenames belonging to 2 classes.\n",
            "Found 563 validated image filenames belonging to 2 classes.\n"
          ]
        }
      ]
    },
    {
      "cell_type": "markdown",
      "source": [
        "# Build and compile model"
      ],
      "metadata": {
        "id": "E5rIYKaDV8w6"
      }
    },
    {
      "cell_type": "code",
      "source": [
        "# Build and compile model\n",
        "model = build_model(base_name=BASE_NAME,\n",
        "                    weights=WEIGHTS, \n",
        "                    shape=INPUT_SHAPE,\n",
        "                    pooling=POOLING,\n",
        "                    optimizer=OPTIMIZER,\n",
        "                    name=MODEL_NAME,\n",
        "                    add_top=False,\n",
        "                    metrics=[CohenKappa(num_classes=2, name='kappa')])"
      ],
      "metadata": {
        "id": "xOdnVa4LvIG1",
        "colab": {
          "base_uri": "https://localhost:8080/"
        },
        "outputId": "265e5254-c6f3-4496-e433-644d234a0949"
      },
      "execution_count": 9,
      "outputs": [
        {
          "output_type": "stream",
          "name": "stdout",
          "text": [
            "Downloading data from https://storage.googleapis.com/tensorflow/keras-applications/densenet/densenet169_weights_tf_dim_ordering_tf_kernels_notop.h5\n",
            "51879936/51877672 [==============================] - 0s 0us/step\n",
            "51888128/51877672 [==============================] - 0s 0us/step\n"
          ]
        }
      ]
    },
    {
      "cell_type": "markdown",
      "source": [
        "# Training"
      ],
      "metadata": {
        "id": "N9pVdiN8ogt7"
      }
    },
    {
      "cell_type": "code",
      "source": [
        "# Make checkpoint of weights from best epoch\n",
        "best_path = CHECKPOINT_DIR + MODEL_NAME + '_best.h5'\n",
        "checkpoint_best = ModelCheckpoint(filepath=best_path,\n",
        "                                  save_weights_only=True,\n",
        "                                  monitor='val_kappa',\n",
        "                                  mode='max',\n",
        "                                  save_best_only=True,\n",
        "                                  verbose=1)\n",
        "\n",
        "# Optional - make checkpoint of weights every epoch in case Google Colab runtime disconnects\n",
        "# last_path = CHECKPOINT_DIR + MODEL_NAME + '_last.h5'\n",
        "# checkpoint_last = ModelCheckpoint(filepath=last_path,\n",
        "#                                   save_weights_only=True,\n",
        "#                                   verbose=0)\n",
        "\n",
        "# Early stopping\n",
        "early_stop = EarlyStopping(monitor='val_kappa',\n",
        "                           mode='max',\n",
        "                           min_delta=0,\n",
        "                           patience=5,\n",
        "                           verbose=1,\n",
        "                           restore_best_weights=True)\n",
        "\n",
        "hist = model.fit(x=train_flow,\n",
        "                 epochs=EPOCHS,\n",
        "                 validation_data=valid_flow,\n",
        "                 class_weight=get_class_weights(train_df),\n",
        "                 verbose=1,\n",
        "                 callbacks=[checkpoint_best, early_stop])"
      ],
      "metadata": {
        "id": "vWm3jVhivnvT"
      },
      "execution_count": null,
      "outputs": []
    },
    {
      "cell_type": "markdown",
      "source": [
        "## Save last epoch weights and training history"
      ],
      "metadata": {
        "id": "UfsqNIBuonwb"
      }
    },
    {
      "cell_type": "code",
      "source": [
        "model.save_weights(CHECKPOINT_DIR + MODEL_NAME + '_last.h5')\n",
        "\n",
        "with open(CHECKPOINT_DIR + MODEL_NAME + '_hist', 'wb') as file_pi:\n",
        "        pickle.dump(hist.history, file_pi)"
      ],
      "metadata": {
        "id": "GwOBTTHBTECV"
      },
      "execution_count": 57,
      "outputs": []
    },
    {
      "cell_type": "code",
      "metadata": {
        "id": "RtPgg3bbab-6"
      },
      "source": [
        "# You can load one of saved training histories to visualize it\n",
        "# history = pickle.load(open('/content/drive/MyDrive/MURA/models/ResNet50/ResNet50_avg_imagenet_eq_hist_hist', \"rb\"))\n",
        "\n",
        "plt.plot(history['kappa'], label='train_kappa')\n",
        "plt.plot(history['val_kappa'], label = 'val_kappa')\n",
        "plt.xlabel('Epoch')\n",
        "plt.ylabel('')\n",
        "plt.legend(loc='right')\n",
        "plt.xticks(np.arange(10))\n",
        "\n",
        "plt.show()"
      ],
      "execution_count": null,
      "outputs": []
    },
    {
      "cell_type": "markdown",
      "source": [
        "# Evaluation\n",
        "Evaluate trained model on test set, you can also load weights from previous runs to be evaluated"
      ],
      "metadata": {
        "id": "31hgEhzEoeYa"
      }
    },
    {
      "cell_type": "code",
      "source": [
        "# Get test set\n",
        "test_df = get_dataframe(body_part=BODY_PART, split='test', path=DATAFRAME_PATH)\n",
        "\n",
        "# Create dataframe flow for testing set (without augmentation)\n",
        "test_flow = valid_gen.flow_from_dataframe(dataframe=test_df,\n",
        "                                          directory=FLOW_DIR,\n",
        "                                          x_col='filepath',\n",
        "                                          y_col='label',\n",
        "                                          class_mode='binary',\n",
        "                                          target_size=IMAGE_SIZE,\n",
        "                                          batch_size=BATCH_SIZE,\n",
        "                                          seed=27,\n",
        "                                          shuffle=False) # Dont shuffle so we can pair images with their filepaths\n",
        "\n",
        "# Optional load weights from previous training\n",
        "# model.load_weights('/content/drive/MyDrive/MURA/models/DenseNet169_tmp_best.h5')\n",
        "model.evaluate(x=test_flow, verbose=1)"
      ],
      "metadata": {
        "id": "6w3s13Lbvn-J"
      },
      "execution_count": null,
      "outputs": []
    }
  ]
}