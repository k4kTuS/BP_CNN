{
 "cells": [
  {
   "cell_type": "markdown",
   "metadata": {},
   "source": [
    "# Hyperparameter optimization - ResNet50\n",
    "* This notebook was used to optimize hyperparameters for ResNet50 architecture, using Keras tuner library\n",
    "* It already contains the results from the hyperband search"
   ]
  },
  {
   "cell_type": "code",
   "execution_count": null,
   "metadata": {
    "colab": {
     "base_uri": "https://localhost:8080/"
    },
    "id": "1JjJVSpXfyWg",
    "outputId": "3c1ec650-06e1-46ac-9cdb-5092b84a1426",
    "scrolled": true
   },
   "outputs": [],
   "source": [
    "%tensorflow_version 2.x\n",
    "import tensorflow as tf\n",
    "\n",
    "from tensorflow import keras\n",
    "from tensorflow.keras import layers\n",
    "from tensorflow.keras.callbacks import EarlyStopping\n",
    "from tensorflow.keras.optimizers import Adam\n",
    "\n",
    "# Google Colab does not have tensorflow_addons installed by default\n",
    "!pip install tensorflow-addons\n",
    "from tensorflow_addons.metrics import CohenKappa\n",
    "\n",
    "# Install keras-tuner\n",
    "!pip install keras-tuner --upgrade\n",
    "import keras_tuner as kt"
   ]
  },
  {
   "cell_type": "markdown",
   "metadata": {
    "id": "vte6fR-hhY4M"
   },
   "source": [
    "# FILEPATHS"
   ]
  },
  {
   "cell_type": "code",
   "execution_count": 2,
   "metadata": {
    "id": "chR2OBqAYd4V"
   },
   "outputs": [],
   "source": [
    "DRIVE_DIR = '/content/drive/MyDrive/MURA/' # Directory in my personal Google Drive with all source files and datasets\n",
    "MURA_DIR = '/content/original/' # Directory with original MURA dataset\n",
    "CLAHE_2_DIR = '/content/clahe_2/' # Directory for CLAHE preprocessed dataset with clipLimit=2\n",
    "CLAHE_10_DIR = '/content/clahe_10/' # Directory for CLAHE preprocessed dataset with clipLimit=10\n",
    "CROPPED_DIR = '/content/cropped/' # Directory for custom cropping preprocessed dataset\n",
    "DATAFRAME_PATH = DRIVE_DIR + '/tvt_detailed_paths.csv' # Path to csv file with dataset information (train-valid-test split)"
   ]
  },
  {
   "cell_type": "markdown",
   "metadata": {
    "id": "djVz8HVw7oEY"
   },
   "source": [
    "# Google Colab specific section"
   ]
  },
  {
   "cell_type": "markdown",
   "metadata": {
    "id": "82nFEA2TjZ3q"
   },
   "source": [
    "## Mount Google Drive"
   ]
  },
  {
   "cell_type": "code",
   "execution_count": 3,
   "metadata": {
    "colab": {
     "base_uri": "https://localhost:8080/"
    },
    "id": "afiSbqU-ajuW",
    "outputId": "a30337bf-b2fc-402f-d6f6-1a8cd6afe84a"
   },
   "outputs": [
    {
     "name": "stdout",
     "output_type": "stream",
     "text": [
      "Mounted at /content/drive\n"
     ]
    }
   ],
   "source": [
    "from google.colab import drive\n",
    "drive.mount('/content/drive')"
   ]
  },
  {
   "cell_type": "markdown",
   "metadata": {
    "id": "eMOttX7zz_tP"
   },
   "source": [
    "## Google colab functions\n",
    "\n",
    "Next cell containts function definitions, that are needed or useful when running notebook in Google Colab, such as copying dataset from Google Drive, checking GPU utilization, copying other files from Google Drive."
   ]
  },
  {
   "cell_type": "code",
   "execution_count": 4,
   "metadata": {
    "id": "JdCdOOo5z5kU"
   },
   "outputs": [],
   "source": [
    "# This function is from Google Colab guide notebooks: https://colab.research.google.com/notebooks/pro.ipynb\n",
    "def check_gpu():\n",
    "  \"\"\"\n",
    "  Prints information about available GPU or message saying there isn't one\n",
    "  \"\"\"\n",
    "  gpu_info = !nvidia-smi\n",
    "  gpu_info = '\\n'.join(gpu_info)\n",
    "  if gpu_info.find('failed') >= 0:\n",
    "    print('Not connected to a GPU')\n",
    "  else:\n",
    "    print(gpu_info)\n",
    "\n",
    "\n",
    "def init_file_struct():\n",
    "  \"\"\"\n",
    "  Prep file structure in Google Colab and copies neccessary files from Google Drive\n",
    "  \"\"\"\n",
    "  !cp \"{DRIVE_DIR}src/utils.py\" .\n",
    "  !cp \"{DRIVE_DIR}src/image_preprocessing.py\" .\n",
    "\n",
    "\n",
    "def copy_dataset(filename):\n",
    "  \"\"\"\n",
    "  Copies and unzips dataset from Google Drive and deletes the zipped file\n",
    "\n",
    "  Parameters\n",
    "  ----------\n",
    "  filename : str\n",
    "    Dataset filename, without its path, the path will be added from constants\n",
    "  \"\"\"\n",
    "  !cp {DRIVE_DIR}{filename} /content/\n",
    "\n",
    "  !unzip -q /content/{filename}\n",
    "\n",
    "  !rm /content/{filename}"
   ]
  },
  {
   "cell_type": "markdown",
   "metadata": {
    "id": "3iQ5LRSN5bKU"
   },
   "source": [
    "## Import python files after copying them from Google Colab"
   ]
  },
  {
   "cell_type": "code",
   "execution_count": 5,
   "metadata": {
    "id": "lA5yYz1FsD4f"
   },
   "outputs": [],
   "source": [
    "init_file_struct()\n",
    "from utils import *\n",
    "from image_preprocessing import *"
   ]
  },
  {
   "cell_type": "markdown",
   "metadata": {
    "id": "foQIO96o5k_g"
   },
   "source": [
    "## Copy desired dataset to be used"
   ]
  },
  {
   "cell_type": "code",
   "execution_count": 6,
   "metadata": {
    "id": "T02MSGga5kNU"
   },
   "outputs": [],
   "source": [
    "copy_dataset('original.zip')\n",
    "# copy_dataset('clahe_2.zip')\n",
    "# copy_dataset('clahe_10.zip')\n",
    "# copy_dataset('cropped.zip')"
   ]
  },
  {
   "cell_type": "markdown",
   "metadata": {
    "id": "oVPVFQRBiLtS"
   },
   "source": [
    "# SETUP"
   ]
  },
  {
   "cell_type": "code",
   "execution_count": 7,
   "metadata": {
    "id": "ZPBBFX6IiKaw"
   },
   "outputs": [],
   "source": [
    "# DATAFRAME\n",
    "BODY_PART = 'SHOULDER' # Which body part to use, can be \"ALL\" for full dataset\n",
    "# IMAGE AUGMENTATION\n",
    "ROTATION_R = 20 # Rotation range\n",
    "W_SHIFT_R = 0.05 # Width shift range\n",
    "H_SHIFT_R = 0.05 # Height shift range\n",
    "BRIGHTNESS_R = (0.9, 1.1) # Brightness range\n",
    "ZOOM_R = 0.1 # Zoom range\n",
    "H_FLIP = True # Flip the image horizontally\n",
    "PRE_FUNC = rescale # Preprocessing function\n",
    "# DATAFRAME FLOW\n",
    "IMAGE_SIZE = (224, 224) # Resize all images to this size\n",
    "# MODEL\n",
    "BASE_NAME = 'ResNet50' # Name corresponding to one of the architectures from Keras functional API\n",
    "WEIGHTS = 'imagenet' # ImageNet pre-trained weights or a path to stored model weights\n",
    "INPUT_SHAPE = (224, 224, 3) # Model input shape\n",
    "MODEL_NAME = BASE_NAME + '_tuning' # Name used for storing model weights during and after training\n",
    "# TUNING\n",
    "BATCH_SIZE = [8, 16, 32] # Batch size options\n",
    "POOLING = ['avg', 'max'] # Pooling options\n",
    "LEARNING_RATE = [0.001, 0.0005, 0.00025, 0.0001, 0.00005] # Adam learning rate options\n",
    "MAX_EPOCHS = 7 # Maximum epochs for one trial run\n",
    "EPOCHS = 80 # Maximum number of epochs for whole tuning"
   ]
  },
  {
   "cell_type": "markdown",
   "metadata": {
    "id": "dopwQuPxkZV_"
   },
   "source": [
    "# Create datagens and flows"
   ]
  },
  {
   "cell_type": "code",
   "execution_count": 8,
   "metadata": {
    "colab": {
     "base_uri": "https://localhost:8080/"
    },
    "id": "ggqBTn15ab-v",
    "outputId": "92f5e9ab-bbef-4521-b2d7-055611899fdc"
   },
   "outputs": [
    {
     "name": "stdout",
     "output_type": "stream",
     "text": [
      "Found 8257 validated image filenames belonging to 2 classes.\n",
      "Found 563 validated image filenames belonging to 2 classes.\n"
     ]
    }
   ],
   "source": [
    "# Create dataframes from train valid split\n",
    "train_df = get_dataframe(body_part=BODY_PART, split='train', path=DATAFRAME_PATH)\n",
    "valid_df = get_dataframe(body_part=BODY_PART, split='valid', path=DATAFRAME_PATH)\n",
    "\n",
    "# Create ImageDataGenerators, train_gen uses specified online augmentation, valid_gen only preprocesses images\n",
    "train_gen, valid_gen = create_generators(rotation_r=ROTATION_R,\n",
    "                                         w_shift_r=W_SHIFT_R,\n",
    "                                         h_shift_r=H_SHIFT_R,\n",
    "                                         brightness_r=BRIGHTNESS_R,\n",
    "                                         zoom_r=ZOOM_R,\n",
    "                                         h_flip=H_FLIP,\n",
    "                                         pre_func=PRE_FUNC)\n",
    "\n",
    "# Create dataframe flows, using batch size as hyperparameter\n",
    "train_flow, valid_flow = create_dataframe_flows(train_gen=train_gen,\n",
    "                                                valid_gen=valid_gen,\n",
    "                                                train_df=train_df,\n",
    "                                                valid_df=valid_df,\n",
    "                                                directory=MURA_DIR,\n",
    "                                                img_size=IMAGE_SIZE)"
   ]
  },
  {
   "cell_type": "code",
   "execution_count": 9,
   "metadata": {
    "id": "Rnli6_XNklhu"
   },
   "outputs": [],
   "source": [
    "# Function for building the model using tuned hyperparameters\n",
    "def build_hyperparam(hp):\n",
    "  hp_pool = hp.Choice('pool', POOLING) # Pooling after last conv layer\n",
    "  hp_lr = hp.Choice('lr', LEARNING_RATE) # Adam initial learning rate\n",
    "  hp_batch_size = hp.Choice('batch_size', BATCH_SIZE) # Batch size\n",
    "\n",
    "  # Set batch size\n",
    "  train_flow.batch_size = hp_batch_size\n",
    "  valid_flow.batch_size = hp_batch_size\n",
    "\n",
    "  # Call function for building model from utils.py\n",
    "  model = build_model(base_name=BASE_NAME,\n",
    "                      weights=WEIGHTS,\n",
    "                      shape=INPUT_SHAPE,\n",
    "                      name=MODEL_NAME,\n",
    "                      pooling=hp_pool,\n",
    "                      optimizer=Adam(learning_rate=hp_lr))\n",
    "  return model"
   ]
  },
  {
   "cell_type": "code",
   "execution_count": 10,
   "metadata": {
    "colab": {
     "base_uri": "https://localhost:8080/"
    },
    "id": "O6ieHuttoAeh",
    "outputId": "84f974fe-1c91-4844-c0b7-e8492ae7f87e"
   },
   "outputs": [
    {
     "name": "stdout",
     "output_type": "stream",
     "text": [
      "Downloading data from https://storage.googleapis.com/tensorflow/keras-applications/resnet/resnet50_weights_tf_dim_ordering_tf_kernels_notop.h5\n",
      "94773248/94765736 [==============================] - 0s 0us/step\n",
      "94781440/94765736 [==============================] - 0s 0us/step\n"
     ]
    }
   ],
   "source": [
    "# Create tuner using Hyperband search\n",
    "tuner = kt.Hyperband(\n",
    "    hypermodel=build_hyperparam,\n",
    "    objective=kt.Objective('val_kappa', 'max'),\n",
    "    max_epochs=MAX_EPOCHS,\n",
    "    overwrite=True,\n",
    "    directory=DRIVE_DIR + \"tuning\",\n",
    "    project_name=\"resnet50_hp\"\n",
    ")"
   ]
  },
  {
   "cell_type": "code",
   "execution_count": 11,
   "metadata": {
    "colab": {
     "base_uri": "https://localhost:8080/"
    },
    "id": "0694KZ9JqRPB",
    "outputId": "165ebf84-bfe6-44f7-fcc6-4979e018f5b7"
   },
   "outputs": [
    {
     "name": "stdout",
     "output_type": "stream",
     "text": [
      "Trial 10 Complete [00h 20m 57s]\n",
      "val_kappa: 0.33763033151626587\n",
      "\n",
      "Best val_kappa So Far: 0.5415279865264893\n",
      "Total elapsed time: 02h 14m 08s\n",
      "INFO:tensorflow:Oracle triggered exit\n"
     ]
    }
   ],
   "source": [
    "early_stop = EarlyStopping(monitor='val_kappa',\n",
    "                           mode='max',\n",
    "                           min_delta=0,\n",
    "                           patience=5,\n",
    "                           restore_best_weights=True)\n",
    "\n",
    "tuner.search(x=train_flow, epochs=EPOCHS, validation_data=valid_flow, class_weight=get_class_weights(train_df), verbose=1, callbacks=[early_stop])"
   ]
  },
  {
   "cell_type": "code",
   "execution_count": 54,
   "metadata": {
    "colab": {
     "base_uri": "https://localhost:8080/"
    },
    "id": "vb1xMuhbM4yj",
    "outputId": "248bb980-5066-4322-8a5a-c98e409cf2ca"
   },
   "outputs": [
    {
     "name": "stdout",
     "output_type": "stream",
     "text": [
      "------------------------------\n",
      "Hyperparameter tuning summary:\n",
      "------------------------------\n",
      "Model: ResNet50\n",
      "Searched parameters:\n",
      "------------------------------\n",
      "pool : ['avg', 'max']\n",
      "lr : [0.001, 0.0005, 0.00025, 0.0001, 5e-05]\n",
      "batch_size : [8, 16, 32]\n",
      "------------------------------\n",
      "Best parameter config:\n",
      "------------------------------\n",
      "pool : avg\n",
      "lr : 0.0001\n",
      "batch_size : 32\n",
      "tuner/epochs : 7\n",
      "tuner/initial_epoch : 0\n",
      "tuner/bracket : 0\n",
      "tuner/round : 0\n",
      "------------------------------\n",
      "\n"
     ]
    }
   ],
   "source": [
    "# Get best model parameters\n",
    "best_hp = tuner.get_best_hyperparameters(1)[0]\n",
    "\n",
    "# Get search space and best parameters\n",
    "hp_config = best_hp.get_config().get('space')\n",
    "hp_params = best_hp.get_config().get('values')\n",
    "\n",
    "# Print summary\n",
    "print('------------------------------\\nHyperparameter tuning summary:\\n------------------------------')\n",
    "print('Model:', BASE_NAME)\n",
    "print('Searched parameters:\\n------------------------------')\n",
    "for parameter in hp_config:\n",
    "  print(parameter['config']['name'], ':', parameter['config']['values'])\n",
    "print('------------------------------')\n",
    "print('Best parameter config:\\n------------------------------')\n",
    "for key in hp_params.keys():\n",
    "  print(key, ':', hp_params[key])\n",
    "print('------------------------------\\n')"
   ]
  },
  {
   "cell_type": "code",
   "execution_count": 12,
   "metadata": {
    "colab": {
     "base_uri": "https://localhost:8080/"
    },
    "id": "kEGZHJjLxPXE",
    "outputId": "9055f1f5-9b53-4780-aa1c-e08036a41bbd"
   },
   "outputs": [
    {
     "name": "stdout",
     "output_type": "stream",
     "text": [
      "Results summary\n",
      "Results in /content/drive/MyDrive/MURA/tuning/resnet50_hp\n",
      "Showing 10 best trials\n",
      "<keras_tuner.engine.objective.Objective object at 0x7f3344366710>\n",
      "Trial summary\n",
      "Hyperparameters:\n",
      "pool: avg\n",
      "lr: 0.0001\n",
      "batch_size: 32\n",
      "tuner/epochs: 7\n",
      "tuner/initial_epoch: 0\n",
      "tuner/bracket: 0\n",
      "tuner/round: 0\n",
      "Score: 0.5415279865264893\n",
      "Trial summary\n",
      "Hyperparameters:\n",
      "pool: avg\n",
      "lr: 5e-05\n",
      "batch_size: 16\n",
      "tuner/epochs: 7\n",
      "tuner/initial_epoch: 3\n",
      "tuner/bracket: 1\n",
      "tuner/round: 1\n",
      "tuner/trial_id: 0003\n",
      "Score: 0.5300976037979126\n",
      "Trial summary\n",
      "Hyperparameters:\n",
      "pool: avg\n",
      "lr: 5e-05\n",
      "batch_size: 16\n",
      "tuner/epochs: 3\n",
      "tuner/initial_epoch: 0\n",
      "tuner/bracket: 1\n",
      "tuner/round: 0\n",
      "Score: 0.5173535346984863\n",
      "Trial summary\n",
      "Hyperparameters:\n",
      "pool: max\n",
      "lr: 0.00025\n",
      "batch_size: 8\n",
      "tuner/epochs: 7\n",
      "tuner/initial_epoch: 3\n",
      "tuner/bracket: 1\n",
      "tuner/round: 1\n",
      "tuner/trial_id: 0002\n",
      "Score: 0.40029674768447876\n",
      "Trial summary\n",
      "Hyperparameters:\n",
      "pool: max\n",
      "lr: 0.00025\n",
      "batch_size: 8\n",
      "tuner/epochs: 3\n",
      "tuner/initial_epoch: 0\n",
      "tuner/bracket: 1\n",
      "tuner/round: 0\n",
      "Score: 0.39198946952819824\n",
      "Trial summary\n",
      "Hyperparameters:\n",
      "pool: avg\n",
      "lr: 0.0005\n",
      "batch_size: 8\n",
      "tuner/epochs: 7\n",
      "tuner/initial_epoch: 0\n",
      "tuner/bracket: 0\n",
      "tuner/round: 0\n",
      "Score: 0.33763033151626587\n",
      "Trial summary\n",
      "Hyperparameters:\n",
      "pool: avg\n",
      "lr: 0.001\n",
      "batch_size: 32\n",
      "tuner/epochs: 7\n",
      "tuner/initial_epoch: 0\n",
      "tuner/bracket: 0\n",
      "tuner/round: 0\n",
      "Score: 0.24358981847763062\n",
      "Trial summary\n",
      "Hyperparameters:\n",
      "pool: max\n",
      "lr: 5e-05\n",
      "batch_size: 32\n",
      "tuner/epochs: 3\n",
      "tuner/initial_epoch: 0\n",
      "tuner/bracket: 1\n",
      "tuner/round: 0\n",
      "Score: 0.19237494468688965\n",
      "Trial summary\n",
      "Hyperparameters:\n",
      "pool: avg\n",
      "lr: 5e-05\n",
      "batch_size: 32\n",
      "tuner/epochs: 3\n",
      "tuner/initial_epoch: 0\n",
      "tuner/bracket: 1\n",
      "tuner/round: 0\n",
      "Score: 0.17139947414398193\n",
      "Trial summary\n",
      "Hyperparameters:\n",
      "pool: max\n",
      "lr: 0.0005\n",
      "batch_size: 16\n",
      "tuner/epochs: 3\n",
      "tuner/initial_epoch: 0\n",
      "tuner/bracket: 1\n",
      "tuner/round: 0\n",
      "Score: 0.1539548635482788\n"
     ]
    }
   ],
   "source": [
    "# Optional - print full summary\n",
    "tuner.results_summary()"
   ]
  },
  {
   "cell_type": "code",
   "execution_count": null,
   "metadata": {
    "id": "NrDivkBNNuEc"
   },
   "outputs": [],
   "source": []
  }
 ],
 "metadata": {
  "accelerator": "GPU",
  "colab": {
   "collapsed_sections": [],
   "name": "hyperparameter_optimization_ResNet50.ipynb",
   "provenance": []
  },
  "kernelspec": {
   "display_name": "Python 3 (ipykernel)",
   "language": "python",
   "name": "python3"
  },
  "language_info": {
   "codemirror_mode": {
    "name": "ipython",
    "version": 3
   },
   "file_extension": ".py",
   "mimetype": "text/x-python",
   "name": "python",
   "nbconvert_exporter": "python",
   "pygments_lexer": "ipython3",
   "version": "3.8.10"
  }
 },
 "nbformat": 4,
 "nbformat_minor": 1
}
